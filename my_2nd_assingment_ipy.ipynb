{
  "nbformat": 4,
  "nbformat_minor": 0,
  "metadata": {
    "colab": {
      "provenance": []
    },
    "kernelspec": {
      "name": "python3",
      "display_name": "Python 3"
    },
    "language_info": {
      "name": "python"
    }
  },
  "cells": [
    {
      "cell_type": "markdown",
      "source": [
        "**Q.1 What are data structures, and why are they important?**\n",
        "\n",
        "**ANS:** A data structure is a way of organizing, storing, and managing data so that it can be accessed and modified efficiently. It defines how data is arranged in memory and the operations that can be performed on it. Examples of common data structures include:\n",
        "\n",
        "**Arrays:** A collection of elements stored in contiguous memory locations.\n",
        "\n",
        "**Linked Lists:** A sequence of nodes, each containing data and a reference to the next node.\n",
        "\n",
        "**Stacks:** A Last In, First Out (LIFO) structure.\n",
        "\n",
        "**Queues:** A First In, First Out (FIFO) structure.\n",
        "\n",
        "**Hash Tables:** A structure that maps keys to values for fast data retrieval.\n",
        "\n",
        "**Trees:** Hierarchical structures with nodes connected by edges (e.g., binary trees).\n",
        "\n",
        "**Graphs:** A set of nodes (vertices) connected by edges, representing relationships.\n",
        "\n",
        "**Heaps:** Specialized tree structures used for efficient retrieval of the minimum or maximum element.\n",
        "\n",
        "**Why Are Data Structures Important?**\n",
        "\n",
        "**Efficiency:** Data structures help optimize the performance of programs. By choosing the right structure, you can minimize the time complexity of operations like searching, inserting, or deleting data.\n",
        "\n",
        "**Problem Solving:** Different problems require different data representations. For example:\n",
        "\n",
        "\n",
        "\n",
        "*    Use hash tables for fast lookups.\n",
        "*   \n",
        "Use queues for tasks involving first-come, first-served processing.\n",
        "\n",
        "\n",
        "*   Use graphs for modeling networks like social media connections or transportation routes.\n",
        "\n",
        "\n",
        "\n",
        "\n",
        "\n",
        "**Resource Management:** Efficient data structures reduce memory usage and improve the performance of applications by avoiding unnecessary duplication and optimizing memory access patterns.\n",
        "\n",
        "**Foundation of Algorithms:** Many algorithms are designed to work with specific data structures. For example:\n",
        "\n",
        "Dijkstra’s algorithm for shortest paths uses graphs.\n",
        "Merge sort and quick sort often rely on arrays or lists.\n",
        "\n",
        "**Scalability:**  As applications grow and handle larger datasets, the choice of data structures becomes critical to maintain performance under increased load.\n",
        "\n",
        "**Code Reusability:** Data structures are modular and can often be reused across projects. Libraries and frameworks frequently provide prebuilt data structures for developers to leverage.\n",
        "\n",
        "**Ease of Maintenance:** Well-organized data structures make it easier to maintain and debug programs, as they provide clear, logical ways to access and manipulate data.\n",
        "\n",
        "Real-Life Examples of Importance:\n",
        "\n",
        "**Web Development:** Hash tables are used for caching data to improve performance.\n",
        "\n",
        "**Databases:** Trees and hash tables are used for indexing and efficient query execution.\n",
        "\n",
        "**Operating Systems:** Queues manage process scheduling and multitasking.\n",
        "\n",
        "**AI and Machine Learning:**Graphs represent neural networks, decision trees, and relationships between entities.\n",
        "\n",
        "**Networking:**Graphs model connections in networks like routers and switches.\n",
        "\n",
        "\n",
        "\n",
        "\n",
        "\n",
        "\n",
        "\n"
      ],
      "metadata": {
        "id": "erUAN_0ZbQGb"
      }
    },
    {
      "cell_type": "markdown",
      "source": [
        "**Q.2  Explain the difference between mutable and immutable data types with examples?**\n",
        "\n",
        "# **Aspect:**\t  \n",
        "## **Mutable**:\t    \n",
        "## Modification: Can be modified after creation.\n",
        "## Examples:\tLists, Dictionaries, Sets.\n",
        "## Memory Behavior: Modifications create a new object.\n",
        "## Performance:\tCan be slower due to in-place changes.\n",
        "\n",
        "# **Immutable**\n",
        "## Modification:\tCannot be modified after creation.\n",
        "## Examples:Strings, Tuples, Integers, Booleans\n",
        "## Memory Behavior:Modifications create a new object.\n",
        "## Performance:More efficient for fixed-size data."
      ],
      "metadata": {
        "id": "vB4MwKqfhjmg"
      }
    },
    {
      "cell_type": "markdown",
      "source": [
        "**Q.3 What are the main differences between lists and tuples in Python?**\n",
        "\n",
        "# **ANS:** Aspect:\n",
        "## Lists:\n",
        "# **Mutability:**\t Lists are mutable, meaning their elements can be modified after creation.\n",
        "\n",
        "#**Syntax :** Defined using square brackets [].\n",
        "# **Performance:**\tSlightly slower due to mutability.\n",
        "\n",
        "# **Use Cases:**\t Used when data needs to be modified, such as appending or removing elements.\n",
        "# **Functions Available:** \tSupports methods like append(), remove(), pop(), sort(), etc.\n",
        "# **Memory Usage :** Requires more memory as it supports dynamic resizing.\n",
        "# **Hashability :** Lists are not hashable and cannot be used as keys in dictionaries.\tTuples are hashable (if they only contain hashable elements) and can be used as dictionary keys.\n",
        "# **Immutability Enforcement:** \tCan unintentionally be modified, which might lead to bugs.\n",
        "\n",
        "# **TUPLES**\n",
        "**IMMUTABLE:** Tuples are immutable, meaning their elements cannot be changed after creation.\n",
        "# **Syntax :**Defined using parentheses ().\n",
        "# **Performance:** Faster due to immutability.\n",
        "#**Use Cases:**Used when data should remain constant, like storing fixed configurations.\n",
        "# **Limited methods:** count() and index() only.\n",
        "# **Hashability :**Tuples are hashable (if they only contain hashable elements) and can be used as dictionary keys.\n",
        "# **Immutability Enforcement:**\tImmutable nature ensures data consistency and thread-safety.\n"
      ],
      "metadata": {
        "id": "nq7bxjrQmar7"
      }
    },
    {
      "cell_type": "markdown",
      "source": [
        "**Q.4 Describe how dictionaries store data.**\n",
        "\n",
        "**ANS :**In Python, dictionaries are implemented as hash tables, which enable fast retrieval, insertion, and deletion of key-value pairs. Below is a breakdown of how they work:\n",
        "\n",
        "Key Concepts\n",
        "\n",
        "Key-Value Pairs:\n",
        "\n",
        "Dictionaries store data as key-value pairs.\n",
        "Example: my_dict = {'name': 'Alice', 'age': 25}\n",
        "Key: 'name', Value: 'Alice'\n",
        "Key: 'age', Value: 25\n",
        "Hashing:\n",
        "\n",
        "When a key is added to a dictionary, Python computes a hash value for the key using a hash function (hash()).\n",
        "The hash value determines the location (or bucket) where the key-value pair will be stored in the underlying hash table.\n",
        "Buckets:\n",
        "\n",
        "The hash table is divided into multiple slots or buckets, where key-value pairs are stored.\n",
        "Keys with the same hash value (in rare cases) are handled using collision resolution.\n",
        "\n"
      ],
      "metadata": {
        "id": "vtIRpgpBt5ZC"
      }
    },
    {
      "cell_type": "markdown",
      "source": [
        "**Q.5 Why might you use a set instead of a list in Python?**\n",
        "\n",
        "**ANS :**A set and a list are both collections in Python, but they are optimized for different use cases. Here's why you might choose a set over a list.\n",
        "# When to Use a Set Over a List\n",
        "\n",
        "**Ensuring Uniqueness:**\n",
        "\n",
        "If your use case requires unique elements (e.g., removing duplicates from data).\n",
        "Example: Storing user IDs where duplicates are not allowed.\n",
        "\n",
        "**Fast Membership Testing:**\n",
        "\n",
        "If you frequently need to check whether a value exists in the collection.\n",
        "Example: Checking if a product ID is in a list of valid IDs.\n",
        "\n",
        "**Performing Set Operations:**\n",
        "\n",
        "When you need to compare collections (e.g., finding common elements between two datasets).\n",
        "\n",
        "# When a List is Better\n",
        "\n",
        "**Order Matters:**\n",
        "\n",
        "Lists preserve the order of elements, while sets are unordered.\n",
        "Example:\n",
        "python\n",
        "Copy code\n",
        "my_list = [1, 2, 3]\n",
        "my_set = {1, 2, 3}\n",
        "print(my_list)  # Output: [1, 2, 3]\n",
        "print(my_set)   # Output: {1, 2, 3} (order may vary)\n",
        "\n",
        "\n",
        "\n"
      ],
      "metadata": {
        "id": "B4sOmXQ9ve6P"
      }
    },
    {
      "cell_type": "markdown",
      "source": [
        "**Q.6 What is a string in Python, and how is it different from a list?**\n",
        "\n",
        "**ANS :** In Python, a string is a sequence of characters enclosed in single quotes ('), double quotes (\"), or triple quotes (''' or \"\"\"). Strings are used to represent textual data and are immutable, meaning they cannot be changed after they are created.\n",
        "\n",
        "Both strings and lists are sequences in Python, meaning they share some similarities (like indexing, slicing, and iteration). However, there are significant differences between them.\n"
      ],
      "metadata": {
        "id": "GelDbJP0xR8B"
      }
    },
    {
      "cell_type": "markdown",
      "source": [
        "**Q.7 How do tuples ensure data integrity in Python?**\n",
        "\n",
        "**ANS :**Tuples are an immutable data structure in Python, meaning their contents cannot be modified after creation. This immutability plays a key role in ensuring data integrity. Here’s how tuples help maintain data consistency and reliability:\n",
        "**1. Immutability**\n",
        "\n",
        "\n",
        "* What it means: Once a tuple is created, its elements cannot be altered, added, or removed.\n",
        "* How it ensures integrity:\n",
        "Prevents accidental modification of data.\n",
        "Protects critical information from being changed by other parts of a program, either intentionally or unintentionally.\n",
        "**\n",
        "How Tuples Ensure Data Integrity in Python\n",
        "Tuples are an immutable data structure in Python, meaning their contents cannot be modified after creation. This immutability plays a key role in ensuring data integrity. Here’s how tuples help maintain data consistency and reliability.\n",
        "\n",
        "**2. Hashability**\n",
        "\n",
        "Tuples are hashable (if they contain only hashable elements), meaning they can be used as keys in dictionaries or elements in sets.\n",
        "How it ensures integrity:\n",
        "A tuple’s immutability guarantees that its hash value won’t change during its lifetime, ensuring that it behaves predictably in hash-based collections like dictionaries and sets.\n",
        "\n",
        "**3. Read-Only Nature**\n",
        "\n",
        "Tuples are designed for data that should remain constant throughout the program.\n",
        "How it ensures integrity:\n",
        "By preventing modification, tuples ensure that the original data remains intact, making them ideal for storing configuration settings, constants, or fixed records.\n"
      ],
      "metadata": {
        "id": "KfejVDioI1pz"
      }
    },
    {
      "cell_type": "markdown",
      "source": [
        "**Q.8 What is a hash table, and how does it relate to dictionaries in Python?**\n",
        "\n",
        "**ANS :** A hash table is a data structure that maps keys to values using a hash function. It is designed for fast data retrieval, with average time complexity of\n",
        "𝑂\n",
        "(\n",
        "1\n",
        ")\n",
        "O(1) for common operations like insertion, deletion, and lookup.\n",
        "\n",
        "**Key Components of a Hash Table**:\n",
        "\n",
        "**1.Hash Function:**\n",
        "\n",
        "\n",
        "*   Converts a key into an integer (called the hash value or hash code).\n",
        "*   The hash value determines where the key-value pair is stored in the hash table (its bucket).\n",
        "\n",
        "**2.Buckets:**\n",
        "\n",
        "\n",
        "*   The hash table consists of buckets, which are slots where data is stored.\n",
        "\n",
        "*  A bucket can store multiple key-value pairs if collisions occur (when different keys have the same hash value).\n",
        "\n",
        "**3.Collision Resolution:**\n",
        "\n",
        "Hash tables use techniques like chaining (linked lists) or open addressing (finding another slot) to handle collisions.\n",
        "\n",
        "**What Is a Dictionary in Python?**\n",
        "\n",
        "A dictionary in Python is an implementation of a hash table. It maps keys to values and provides fast access to data. Python dictionaries use an optimized hash table mechanism that balances performance and memory usage.\n",
        "\n",
        "**1. Keys Are Hashed**\n",
        "\n",
        "When you add a key-value pair to a dictionary, Python computes the hash value of the key using the built-in hash() function.\n",
        "\n",
        "The hash value determines the bucket where the key-value pair will be stored.\n",
        "\n",
        "**2. Buckets Store Key-Value Pairs**\n",
        "\n",
        "The hash table underlying the dictionary uses buckets to store key-value pairs.\n",
        "\n",
        "Each bucket is indexed by the hash value (modulo the table size).\n",
        "\n",
        "**3. Collision Handling:**\n",
        "\n",
        "When two keys have the same hash value (a collision), Python handles it using open addressing and probing to find an available bucket.\n",
        "\n",
        "**4. Resizing the Hash Table**\n",
        "\n",
        "If the dictionary becomes too full (load factor exceeds a threshold),\n",
        "\n",
        " Python resizes the hash table:\n",
        "\n",
        "A new, larger table is created.\n",
        "\n",
        "All existing keys are rehashed and redistributed.\n"
      ],
      "metadata": {
        "id": "N-BUJSv-LRFe"
      }
    },
    {
      "cell_type": "markdown",
      "source": [
        "**Q.9 Can lists contain different data types in Python?**\n",
        "\n",
        "**ANS :** Yes, lists in Python can contain elements of different data types. Python lists are highly flexible and can hold any kind of object, including:\n",
        "\n",
        "\n",
        "Numbers (integers, floats, complex numbers)\n",
        "\n",
        "Strings\n",
        "\n",
        "Other lists\n",
        "\n",
        "Tuples\n",
        "\n",
        "Dictionaries\n",
        "\n",
        "Sets\n",
        "\n",
        "Custom objects (instances of user-defined classes)\n",
        "\n",
        "This is possible because Python is a dynamically typed language, meaning that the type of a variable is determined at runtime."
      ],
      "metadata": {
        "id": "aEDKxfpda0zU"
      }
    },
    {
      "cell_type": "markdown",
      "source": [
        "**Q.10 Explain why strings are immutable in Python?**\n",
        "\n",
        "**ANS :** Strings in Python are immutable, meaning they cannot be changed after they are created. If you modify a string, Python creates a new string object instead of altering the original. The immutability of strings in Python is a deliberate design decision with several important reasons and benefits:\n",
        "\n",
        "**1. Performance Optimization**\n",
        "\n",
        "Memory Efficiency:\n",
        "\n",
        "Strings are immutable to make them more memory-efficient. Python uses a technique called string interning, where identical strings are stored only once in memory and shared across references.\n",
        "\n",
        "**2. Thread Safety**\n",
        "\n",
        "No Race Conditions:\n",
        "\n",
        "In multi-threaded environments, immutable objects like strings are inherently thread-safe because they cannot be changed by one thread while being used by another.\n",
        "\n",
        "This ensures that strings behave predictably in concurrent programs.\n",
        "\n",
        "**3. Reliability in Hashing**\n",
        "\n",
        "Hashability:\n",
        "\n",
        "Immutable strings are hashable, which means their hash value does not change during their lifetime. This is essential for using strings as keys in hash-based data structures like dictionaries and sets.\n",
        "\n",
        "If strings were mutable, their hash value would change when modified, breaking dictionary or set behavior.\n",
        "\n",
        "\n",
        "**4. Predictable Behavior:**\n",
        "\n",
        "Consistency Across Code:\n",
        "\n",
        "Strings being immutable ensures that they always represent the same data throughout their lifetime.\n",
        "\n",
        "This prevents accidental bugs caused by unintentional modifications.\n",
        "\n",
        "**5. Security:**\n",
        "\n",
        "Protection from Alteration:\n",
        "\n",
        "Immutable strings are safer when dealing with sensitive information like passwords or cryptographic keys. They prevent malicious or accidental tampering during execution.\n",
        "\n",
        "**6. Compatibility with Other Languages :**\n",
        "\n",
        "Many programming languages (e.g., Java, C#, etc.) also treat strings as immutable for similar reasons. Python follows this convention, making strings easier to understand and work with for developers coming from other languages."
      ],
      "metadata": {
        "id": "V-LsMefXbx5V"
      }
    },
    {
      "cell_type": "markdown",
      "source": [
        "**Q.11 What advantages do dictionaries offer over lists for certain tasks?**\n",
        "\n",
        "**ANS :** Dictionaries and lists are both essential data structures in Python, but they are suited for different tasks. Dictionaries offer several advantages over lists for specific use cases due to their key-value mapping and hash table implementation. Here are the primary advantages:\n",
        "\n",
        "**Advantages of Dictionaries Over Lists**\n",
        "\n",
        "**1. Fast Data Retrieval (O(1) Average Time Complexity)**\n",
        "\n",
        "**2. Key-Value Pair Representation**\n",
        "\n",
        "**3. No Duplicates in Keys**\n",
        "\n",
        "**4. Flexibility in Key Types**\n",
        "\n",
        "**5. Easier to Update or Modify**\n",
        "\n",
        "**6. Built-In Methods for Efficient Operations**\n"
      ],
      "metadata": {
        "id": "RXoZ6daBeaTB"
      }
    },
    {
      "cell_type": "markdown",
      "source": [
        "**Q.12 Describe a scenario where using a tuple would be preferable over a list.**\n",
        "\n",
        "**ANS :** A tuple is preferable over a list when you want to store a collection of items that should remain constant and unchanged throughout the program. Tuples ensure data integrity due to their immutability, which prevents accidental modification.\n",
        "\n",
        "**Example Scenario: Storing GPS Coordinates:**\n",
        "\n",
        "**Problem:**You are building a mapping application that needs to store GPS coordinates (latitude and longitude) for various locations. These coordinates should not be modified once assigned, as altering them could lead to inaccurate location data.\n",
        "\n",
        "**Why a Tuple?**\n",
        "\n",
        "The immutability of tuples ensures that the GPS coordinates cannot be accidentally modified.\n",
        "Tuples are lightweight and more memory-efficient compared to lists, which is beneficial when storing a large number of locations.\n",
        "\n",
        "**Advantages of Using Tuples in These Scenarios:**\n",
        "\n",
        "**Immutability:**\n",
        "\n",
        "Prevents accidental or unauthorized modifications, ensuring data integrity.\n",
        "\n",
        "**Memory Efficiency:**\n",
        "\n",
        "Tuples consume less memory than lists, making them ideal for storing a large amount of constant data.\n",
        "\n",
        "**Hashability:**\n",
        "Tuples can be used as keys in dictionaries or elements in sets.\n",
        "\n",
        "**Performance:**\n",
        "\n",
        "Tuples are faster than lists for read-only operations due to their immutability.\n"
      ],
      "metadata": {
        "id": "XfEVIKb5f3Gl"
      }
    },
    {
      "cell_type": "markdown",
      "source": [
        "**Q.13 How do sets handle duplicate values in Python ?**\n",
        "\n",
        "**ANS :**IN  Python, sets automatically handle duplicates by ensuring that every element in a set is unique. If you try to add duplicate values to a set, they will be silently ignored. This behavior is fundamental to how sets work and is achieved through the use of hashing.\n",
        "\n",
        "**Key Features of Sets Regarding Duplicates**\n",
        "\n",
        "# Unique Elements Only:\n",
        "\n",
        "A set cannot contain duplicate values. If a duplicate is added, it will simply be ignored.\n",
        "\n",
        "# Automatic Deduplication:\n",
        "\n",
        "When a collection with duplicates is converted to a set, the duplicates are automatically removed.\n",
        "\n",
        "**Advantages of Deduplication in Sets**\n",
        "\n",
        "**Efficiency:**\n",
        "\n",
        "Sets automatically remove duplicates, eliminating the need for manual filtering or additional code.\n",
        "\n",
        "**Simplified Code:**\n",
        "\n",
        "Using a set is a clean and concise way to ensure unique data in your program.\n",
        "\n",
        "**Performance:**\n",
        "\n",
        "The deduplication process is efficient due to the underlying hash table implementation."
      ],
      "metadata": {
        "id": "2iaog3iGiYHt"
      }
    },
    {
      "cell_type": "code",
      "source": [],
      "metadata": {
        "id": "_4UGlxMVjAi7"
      },
      "execution_count": null,
      "outputs": []
    },
    {
      "cell_type": "markdown",
      "source": [
        "**Q.14  How does the “in” keyword work differently for lists and dictionaries?**\n",
        "**ANS :** The in keyword is used to check membership in Python. However, its behavior differs between lists and dictionaries based on how these data structures are implemented.\n",
        "\n",
        "**1. in with Lists**\n",
        "\n",
        "**What It Does:**\n",
        "\n",
        "The in keyword checks whether a specified value exists as an element in the list.\n",
        "It performs a linear search, which means it iterates through each element of the list until it finds a match or reaches the end.\n",
        "\n",
        "**Time Complexity:**\n",
        "\n",
        "𝑂\n",
        "(\n",
        "𝑛\n",
        ")\n",
        "O(n), where\n",
        "𝑛\n",
        "n is the number of elements in the list.\n",
        "\n",
        "**2. in with Dictionaries**\n",
        "\n",
        "**What It Does:**\n",
        "\n",
        "The in keyword checks whether a specified key exists in the dictionary, not the values.\n",
        "\n",
        "Time Complexity:\n",
        "\n",
        "𝑂\n",
        "(\n",
        "1\n",
        ")\n",
        "O(1) on average due to the hash table implementation of dictionaries."
      ],
      "metadata": {
        "id": "PdT18oY9kpFE"
      }
    },
    {
      "cell_type": "markdown",
      "source": [
        "**Q.15 E Can you modify the elements of a tuple? Explain why or why not**\n",
        "\n",
        "**ANS :** No, you cannot modify the elements of a tuple directly because tuples are immutable. Once a tuple is created, its contents cannot be changed. This immutability is a fundamental design feature of tuples in Python, ensuring data integrity and consistency."
      ],
      "metadata": {
        "id": "zm3_TgK0qshT"
      }
    },
    {
      "cell_type": "markdown",
      "source": [
        "**Q.16  What is a nested dictionary, and give an example of its use case ?**\n",
        "\n",
        "**ANS :** A nested dictionary is a dictionary that contains another dictionary (or dictionaries) as its value(s). It allows you to represent hierarchical or structured data in a clear and organized way.\n",
        "\n",
        "**Advantages of Nested Dictionaries**\n",
        "\n",
        "**Hierarchical Organization:**\n",
        "Provides a structured and intuitive way to organize complex data.\n",
        "\n",
        "**Flexibility:**\n",
        "Allows dynamic addition and modification of data at multiple levels.\n",
        "**Efficient Access:**\n",
        "Quick access to specific details using keys at different levels.\n",
        "**Limitations of Nested Dictionaries**\n",
        "\n",
        "**Complexity:**\n",
        "Accessing deeply nested data can be cumbersome and error-prone\n",
        "\n",
        "Example: data[\"key1\"][\"subkey1\"][\"subsubkey1\"]\n",
        "\n",
        "**Debugging Difficulty:**\n",
        "\n",
        "Managing large nested dictionaries can make debugging harder, especially if keys are missing or incorrect.\n",
        "\n",
        "**Performance:**\n",
        "\n",
        "Accessing deeply nested keys involves multiple lookups, which can slow down performance for large datasets.\n"
      ],
      "metadata": {
        "id": "J26tbQjOp5Hd"
      }
    },
    {
      "cell_type": "markdown",
      "source": [
        "**Q.17 Describe the time complexity of accessing elements in a dictionary?**\n",
        "\n",
        "**ANS :** The time complexity of accessing elements in a Python dictionary depends on the operation being performed and the underlying hash table implementation. Here’s a detailed breakdown:\n",
        "\n",
        "**1. Accessing by Key**\n",
        "\n",
        "Time Complexity:\n",
        "𝑂\n",
        "(\n",
        "1\n",
        ")\n",
        "O(1) (average case),\n",
        "𝑂\n",
        "(\n",
        "𝑛\n",
        ")\n",
        "O(n) (worst case)\n",
        "Explanation:\n",
        "Average Case (\n",
        "𝑂\n",
        "(\n",
        "1\n",
        ")\n",
        "O(1)):\n",
        "When you access a dictionary value using a key (e.g., my_dict[key]), Python computes the hash value of the key using the hash() function.\n",
        "This hash value is used to determine the bucket in the hash table where the key-value pair is stored, allowing for constant-time access.\n",
        "Worst Case (\n",
        "𝑂\n",
        "(\n",
        "𝑛\n",
        ")\n",
        "O(n)):\n",
        "In rare cases where multiple keys hash to the same bucket (hash collision), Python resolves the collision by storing the key-value pairs in a secondary structure (like a linked list or binary tree) within that bucket.\n",
        "In such cases, searching for the correct key within the bucket can degrade to\n",
        "𝑂\n",
        "(\n",
        "𝑛\n",
        ")\n",
        "O(n), where\n",
        "𝑛\n",
        "n is the number of elements in the dictionary.\n",
        "Example:\n",
        "python\n",
        "Copy code\n",
        "my_dict = {\"a\": 1, \"b\": 2, \"c\": 3}\n",
        "print(my_dict[\"b\"])  # Average case: O(1)\n",
        "2. Checking Key Existence\n",
        "Time Complexity:\n",
        "𝑂\n",
        "(\n",
        "1\n",
        ")\n",
        "O(1) (average case),\n",
        "𝑂\n",
        "(\n",
        "𝑛\n",
        ")\n",
        "O(n) (worst case)\n",
        "Explanation:\n",
        "The in keyword uses the same hash-based lookup as accessing a value by key, making it efficient on average.\n",
        "Example:\n",
        "python\n",
        "Copy code\n",
        "my_dict = {\"a\": 1, \"b\": 2, \"c\": 3}\n",
        "print(\"b\" in my_dict)  # Output: True (Average case: O(1))\n",
        "3. Accessing by Value\n",
        "Time Complexity:\n",
        "𝑂\n",
        "(\n",
        "𝑛\n",
        ")\n",
        "O(n)\n",
        "Explanation:\n",
        "Dictionary values are not hashed. To check for the presence of a value, Python must iterate through all key-value pairs in the dictionary, resulting in linear time complexity.\n",
        "Example:\n",
        "python\n",
        "Copy code\n",
        "my_dict = {\"a\": 1, \"b\": 2, \"c\": 3}\n",
        "print(2 in my_dict.values())  # Output: True (O(n))\n",
        "Summary of Time Complexities\n",
        "Operation\tTime Complexity\n",
        "Access by key (my_dict[key])\n",
        "𝑂\n",
        "(\n",
        "1\n",
        ")\n",
        "O(1) (average),\n",
        "𝑂\n",
        "(\n",
        "𝑛\n",
        ")\n",
        "O(n) (worst case)\n",
        "Checking key existence (key in my_dict)\n",
        "𝑂\n",
        "(\n",
        "1\n",
        ")\n",
        "O(1) (average),\n",
        "𝑂\n",
        "(\n",
        "𝑛\n",
        ")\n",
        "O(n) (worst case)\n",
        "Access by value (value in my_dict.values())\n",
        "𝑂\n",
        "(\n",
        "𝑛\n",
        ")\n",
        "O(n)\n",
        "Why Is Dictionary Access So Fast?\n",
        "Hashing:\n",
        "\n",
        "Keys are hashed to generate a hash value, which is mapped to a specific bucket in the hash table.\n",
        "This allows for direct access to the value associated with the key.\n",
        "Dynamic Resizing:\n",
        "\n",
        "Python dictionaries dynamically resize their hash table to minimize collisions. As the dictionary grows, the table's size increases, reducing the likelihood of hash collisions.\n",
        "Worst-Case Scenarios\n",
        "High Number of Collisions:\n",
        "\n",
        "If many keys hash to the same bucket, the dictionary must search through all the elements in that bucket, degrading performance to\n",
        "𝑂\n",
        "(\n",
        "𝑛\n",
        ")\n",
        "O(n).\n",
        "Collisions can occur due to:\n",
        "Poor hash function design.\n",
        "Adversarial input (e.g., keys that deliberately hash to the same value).\n",
        "Iterating Over All Keys or Values:\n",
        "\n",
        "Operations that involve iterating over all keys or values (e.g., for key in my_dict or my_dict.values()) have a time complexity of\n",
        "𝑂\n",
        "(\n",
        "𝑛\n",
        ")\n",
        "O(n), where\n",
        "𝑛\n",
        "n is the number of elements in the dictionary.\n",
        "Best Practices to Maintain\n",
        "𝑂\n",
        "(\n",
        "1\n",
        ")\n",
        "O(1) Performance\n",
        "Use Hashable Keys:\n",
        "\n",
        "Ensure that dictionary keys are immutable and hashable (e.g., strings, numbers, tuples with immutable elements).\n",
        "Avoid Excessive Collisions:\n",
        "\n",
        "Python’s hash function is robust, but for custom objects, override the __hash__() and __eq__() methods carefully to avoid excessive collisions.\n",
        "Keep Dictionaries Balanced:\n",
        "\n",
        "Python automatically resizes dictionaries, but avoid filling them with excessive elements without resizing.\n",
        "\n",
        "\n"
      ],
      "metadata": {
        "id": "dyZg3-4quMfS"
      }
    },
    {
      "cell_type": "markdown",
      "source": [
        "**Q.18  In what situations are lists preferred over dictionaries?**\n",
        "**ANS :** Lists and dictionaries serve different purposes in Python, and while dictionaries excel in key-value mapping, lists are preferred in situations where sequential or ordered data is needed. Here are scenarios where lists are better suited than dictionaries:\n",
        "\n",
        "**1. When Order Matters**\n",
        "\n",
        "**Why:**\n",
        "Lists inherently maintain the order of elements, which is crucial when you need to access or process data in a specific sequence.\n",
        "\n",
        "**Use Case:**\n",
        "Processing items in the order they were added, such as tasks in a to-do list or steps in a workflow.\n",
        "\n",
        "**2. When Duplicate Elements Are Needed**\n",
        "\n",
        "**Why:**\n",
        "Lists allow duplicate elements, whereas dictionaries do not permit duplicate keys.\n",
        "\n",
        "**Use Case:**\n",
        "Storing data like shopping cart items or survey responses where duplicates are valid and meaningful.\n",
        "\n",
        "**3. When You Need Indexed Access**\n",
        "\n",
        "**Why:**\n",
        "Lists support direct access to elements using their index, which is useful when data is inherently positional.\n",
        "\n",
        "**Use Case:**\n",
        "Retrieving elements based on their position, like accessing the 5th item in a list of scores.\n",
        "\n",
        "**4. When Storing Simple, Sequential Data**\n",
        "\n",
        "**Why:**\n",
        "\n",
        "Lists are simple and lightweight, making them ideal for storing homogeneous, sequential data where key-value mapping is unnecessary.\n",
        "\n",
        "**Use Case:**\n",
        "\n",
        "Representing a collection of items, such as a list of numbers, strings, or objects.\n",
        "\n",
        "**5. When Memory Efficiency Is Important**\n",
        "\n",
        "**Why:**\n",
        "\n",
        "Lists generally use less memory than dictionaries because they only store the data, whereas dictionaries also store keys and handle hashing.\n",
        "\n",
        "**Use Case:**\n",
        "\n",
        "Storing large collections of simple data where memory usage is a concern.\n",
        "\n",
        "**6. When Iteration Speed Is Critical**\n",
        "\n",
        "**Why:**\n",
        "\n",
        "Iterating through a list is faster than iterating through a dictionary because lists do not involve hashing or key lookup.\n",
        "\n",
        "**Use Case:**\n",
        "Scenarios where you need to quickly process a large dataset, such as reading all items from a file.\n"
      ],
      "metadata": {
        "id": "sNrqjb0euPaq"
      }
    },
    {
      "cell_type": "markdown",
      "source": [
        "**Q.19  Why are dictionaries considered unordered, and how does that affect data retrieval?**\n",
        "\n",
        "**ANS :** In Python versions before 3.7, dictionaries were considered unordered because their internal implementation did not guarantee that the order of keys would match the order in which they were inserted. This behavior stemmed from the hash table structure that dictionaries rely on for efficient lookups.\n",
        "\n",
        "**Here’s why dictionaries were historically unordered:**\n",
        "\n",
        "**Hash Table Structure:**\n",
        "\n",
        "Dictionaries use a hash table to store key-value pairs.\n",
        "Keys are hashed to compute their position (bucket) in memory. This process prioritizes fast lookups, not maintaining order.\n",
        "\n",
        "**Key Collisions:**\n",
        "\n",
        "Hash collisions (when two keys have the same hash value) can cause elements to be stored in unpredictable positions within the hash table.\n",
        "The insertion order of keys had no correlation with how data was stored internally.\n",
        "\n",
        "**Focus on Efficiency:**\n",
        "\n",
        "Dictionaries were optimized for fast retrieval, insertion, and deletion of elements, not for maintaining order.\n"
      ],
      "metadata": {
        "id": "RXUwU5NcrDvZ"
      }
    },
    {
      "cell_type": "markdown",
      "source": [
        "**Q.20  Explain the difference between a list and a dictionary in terms of data retrieval.**\n",
        "\n",
        "**ANS:** In Python, both lists and dictionaries are commonly used to store and retrieve data, but they are optimized for different use cases. The key difference lies in how data is stored and accessed:\n",
        "\n",
        "**1. Data Structure:**\n",
        "\n",
        "**List:**\n",
        "\n",
        "A list is an ordered collection of items indexed by integers (position-based access).\n",
        "Each element in the list has a specific index, starting from 0 for the first element.\n",
        "\n",
        "**2. Data Retrieval Method:**\n",
        "\n",
        "**Accessing Data in a List:**\n",
        "\n",
        "**Index-based Retrieval:**\n",
        "In lists, data is accessed by position (index).\n",
        "The index is a zero-based integer, and you retrieve the value at that index.\n",
        "\n",
        "**Time Complexity:**\n",
        "𝑂\n",
        "(\n",
        "1\n",
        ")\n",
        "O(1) for direct access by index.\n",
        "\n",
        "**Use Case:** When you need to access items in a specific order.\n",
        "\n",
        "**3. Time Complexity:**\n",
        "\n",
        "**List:**\n",
        "\n",
        "Accessing an element by index takes constant time\n",
        "𝑂\n",
        "(\n",
        "1\n",
        ")\n",
        "O(1), because the list is stored in contiguous memory locations.\n",
        "However, searching for an element by value (if you don't know the index) requires iterating over the entire list, resulting in linear time\n",
        "𝑂\n",
        "(\n",
        "𝑛\n",
        ")\n",
        "O(n).\n",
        "\n",
        "**4. Order of Data:**\n",
        "\n",
        "**List:**\n",
        "\n",
        "\n",
        "**Ordered:** The order of elements in a list is preserved. The first element is always at index 0, the second at index 1, etc.\n",
        "This makes lists ideal when you need to retrieve items in a specific order or perform sequential operations.\n"
      ],
      "metadata": {
        "id": "V61usIBq2KXV"
      }
    },
    {
      "cell_type": "markdown",
      "source": [
        "**PRACTICAK QUESTION:**\n",
        "\n",
        "**Q.1 Write a code to create a string with your name and print it**\n",
        "\n",
        "**Q.2 Write a code to find the length of the string \"Hello World\"E**\n",
        "\n",
        "**Q.3 Write a code to slice the first 3 characters from the string \"Python Programming\"**\n",
        "\n",
        "**Q.4 Write a code to convert the string \"hello\" to uppercase.**\n",
        "\n",
        "**Q.5 Write a code to replace the word \"apple\" with \"orange\" in the string \"I like apple\"**\n",
        "\n",
        "**Q.6  Write a code to create a list with numbers 1 to 5 and print it**\n",
        "\n",
        "**Q.7 Write a code to append the number 10 to the list [1, 2, 3, 4].**\n",
        "\n",
        "**Q.8 Write a code to remove the number 3 from the list [1, 2, 3, 4, 5].**\n",
        "\n",
        "**Q.9 Write a code to access the second element in the list ['a', 'b', 'c', 'd']**\n",
        "\n",
        "**Q.10 Write a code to reverse the list [10, 20, 30, 40, 50].**\n",
        "\n",
        "**Q.11. Write a code to create a tuple with the elements 10, 20, 30 and print it.**\n",
        "\n",
        "**Q.12. Write a code to access the first element of the tuple ('apple', 'banana', 'cherry').**\n",
        "\n",
        "**Q.13. Write a code to count how many times the number 2 appears in the tuple (1, 2, 3, 2, 4, 2).**\n",
        "\n",
        "**Q.14. Write a code to find the index of the element \"cat\" in the tuple ('dog', 'cat', 'rabbit').**\n",
        "\n",
        "**Q.15. Write a code to check if the element \"banana\" is in the tuple ('apple', 'orange', 'banana').**\n",
        "\n",
        "**Q.16. Write a code to create a set with the elements 1, 2, 3, 4, 5 and print it.**\n",
        "\n",
        "**Q.17. Write a code to add the element 6 to the set {1, 2, 3, 4}.**\n",
        "\n",
        "**Q.18. Write a code to create a tuple with the elements 10, 20, 30 and print it.**\n",
        "\n",
        "**Q.19. Write a code to access the first element of the tuple ('apple', 'banana', 'cherry').**\n",
        "\n",
        "**Q.20. Write a code to count how many times the number 2 appears in the tuple (1, 2, 3, 2, 4, 2).**\n",
        "\n",
        "**Q.21. Write a code to find the index of the element \"cat\" in the tuple ('dog', 'cat', 'rabbit').**\n",
        "\n",
        "**Q.22. Write a code to check if the element \"banana\" is in the tuple ('apple', 'orange', 'banana').**\n",
        "\n",
        "**23. Write a code to create a set with the elements 1, 2, 3, 4, 5 and print it.**\n",
        "\n",
        "**24. Write a code to add the element 6 to the set {1, 2, 3, 4}.**\n",
        "\n"
      ],
      "metadata": {
        "id": "R7KaH_nS_ywj"
      }
    },
    {
      "cell_type": "code",
      "source": [
        "\n",
        "my_name = \"AALIYA\"\n",
        "\n",
        "print(my_name)\n"
      ],
      "metadata": {
        "colab": {
          "base_uri": "https://localhost:8080/"
        },
        "id": "iddiXF9gEs_l",
        "outputId": "b18cdbdc-35af-4aed-b0b3-2a79c6947d64"
      },
      "execution_count": 3,
      "outputs": [
        {
          "output_type": "stream",
          "name": "stdout",
          "text": [
            "AALIYA\n"
          ]
        }
      ]
    },
    {
      "cell_type": "code",
      "source": [
        "\n",
        "my_string = \"Hello World\"\n",
        "length_of_string = len(my_string)\n",
        "print(length_of_string)\n"
      ],
      "metadata": {
        "colab": {
          "base_uri": "https://localhost:8080/"
        },
        "id": "6iFSQw72FDU0",
        "outputId": "a0c70d47-56f0-4de7-c697-511b443147d4"
      },
      "execution_count": 5,
      "outputs": [
        {
          "output_type": "stream",
          "name": "stdout",
          "text": [
            "11\n"
          ]
        }
      ]
    },
    {
      "cell_type": "code",
      "source": [
        "\n",
        "my_string = \"Python Programmig\"\n",
        "sliced_string = my_string[:3]\n",
        "print(sliced_string)\n"
      ],
      "metadata": {
        "colab": {
          "base_uri": "https://localhost:8080/"
        },
        "id": "1_7Jp3txGOQK",
        "outputId": "58519720-69d1-4cb4-aa35-16e35075a0ea"
      },
      "execution_count": 7,
      "outputs": [
        {
          "output_type": "stream",
          "name": "stdout",
          "text": [
            "Pyt\n"
          ]
        }
      ]
    },
    {
      "cell_type": "code",
      "source": [
        "\n",
        "my_string = \"hello\"\n",
        "\n",
        "\n",
        "uppercase_string = my_string.upper()\n",
        "\n",
        "\n",
        "print(uppercase_string)\n"
      ],
      "metadata": {
        "colab": {
          "base_uri": "https://localhost:8080/"
        },
        "id": "dnY9asyXHabh",
        "outputId": "0a443886-a372-415a-f092-b045475be613"
      },
      "execution_count": 9,
      "outputs": [
        {
          "output_type": "stream",
          "name": "stdout",
          "text": [
            "HELLO\n"
          ]
        }
      ]
    },
    {
      "cell_type": "code",
      "source": [
        "\n",
        "my_string = \"I like apple\"\n",
        "\n",
        "new_string = my_string.replace(\"apple\", \"orange\")\n",
        "print(new_string)\n"
      ],
      "metadata": {
        "colab": {
          "base_uri": "https://localhost:8080/"
        },
        "id": "fyEtpZYsIInT",
        "outputId": "bc68ec52-c4cc-4eff-cce8-aae10e18932f"
      },
      "execution_count": 10,
      "outputs": [
        {
          "output_type": "stream",
          "name": "stdout",
          "text": [
            "I like orange\n"
          ]
        }
      ]
    },
    {
      "cell_type": "code",
      "source": [
        "# Creating a list with numbers from 1 to 5\n",
        "my_list = [1, 2, 3, 4, 5]\n",
        "\n",
        "# Printing the list\n",
        "print(my_list)\n"
      ],
      "metadata": {
        "colab": {
          "base_uri": "https://localhost:8080/"
        },
        "id": "_VvV0zmlIZYP",
        "outputId": "5619b544-faf2-431d-9e41-27632cf0861d"
      },
      "execution_count": 11,
      "outputs": [
        {
          "output_type": "stream",
          "name": "stdout",
          "text": [
            "[1, 2, 3, 4, 5]\n"
          ]
        }
      ]
    },
    {
      "cell_type": "code",
      "source": [
        "# Defining the list\n",
        "my_list = [1, 2, 3, 4]\n",
        "\n",
        "# Appending the number 10 to the list\n",
        "my_list.append(10)\n",
        "\n",
        "# Printing the updated list\n",
        "print(my_list)\n"
      ],
      "metadata": {
        "colab": {
          "base_uri": "https://localhost:8080/"
        },
        "id": "Vy1ReobxIndE",
        "outputId": "e7e8ee70-5686-4847-8a2a-ddd995a73c12"
      },
      "execution_count": 12,
      "outputs": [
        {
          "output_type": "stream",
          "name": "stdout",
          "text": [
            "[1, 2, 3, 4, 10]\n"
          ]
        }
      ]
    },
    {
      "cell_type": "code",
      "source": [
        "# Defining the list\n",
        "my_list = [1, 2, 3, 4, 5]\n",
        "\n",
        "# Removing the number 3 from the list\n",
        "my_list.remove(3)\n",
        "\n",
        "# Printing the updated list\n",
        "print(my_list)\n"
      ],
      "metadata": {
        "colab": {
          "base_uri": "https://localhost:8080/"
        },
        "id": "1znPE5DJIpyo",
        "outputId": "72931198-93cd-4abb-c36f-d138ed64a347"
      },
      "execution_count": 13,
      "outputs": [
        {
          "output_type": "stream",
          "name": "stdout",
          "text": [
            "[1, 2, 4, 5]\n"
          ]
        }
      ]
    },
    {
      "cell_type": "code",
      "source": [
        "# Defining the list\n",
        "my_list = ['a', 'b', 'c', 'd']\n",
        "\n",
        "# Accessing the second element (index 1)\n",
        "second_element = my_list[1]\n",
        "\n",
        "# Printing the second element\n",
        "print(second_element)\n"
      ],
      "metadata": {
        "colab": {
          "base_uri": "https://localhost:8080/"
        },
        "id": "9GOj200wJLoT",
        "outputId": "30b62855-df5a-4956-a13e-8c74624b62aa"
      },
      "execution_count": 14,
      "outputs": [
        {
          "output_type": "stream",
          "name": "stdout",
          "text": [
            "b\n"
          ]
        }
      ]
    },
    {
      "cell_type": "code",
      "source": [
        "# Defining the list\n",
        "my_list = [10, 20, 30, 40, 50]\n",
        "\n",
        "# Reversing the list\n",
        "my_list.reverse()\n",
        "\n",
        "# Printing the reversed list\n",
        "print(my_list)\n"
      ],
      "metadata": {
        "colab": {
          "base_uri": "https://localhost:8080/"
        },
        "id": "ZyXctyi5JcHj",
        "outputId": "00c0de05-8dae-44b8-8666-e94aeb231103"
      },
      "execution_count": 15,
      "outputs": [
        {
          "output_type": "stream",
          "name": "stdout",
          "text": [
            "[50, 40, 30, 20, 10]\n"
          ]
        }
      ]
    },
    {
      "cell_type": "code",
      "source": [
        "# Creating the tuple\n",
        "my_tuple = (10, 20, 30)\n",
        "\n",
        "# Printing the tuple\n",
        "print(my_tuple)\n"
      ],
      "metadata": {
        "colab": {
          "base_uri": "https://localhost:8080/"
        },
        "id": "w5IjRGOqJgGi",
        "outputId": "5534c199-5aca-41d4-f570-0b4aecbf8fe6"
      },
      "execution_count": 16,
      "outputs": [
        {
          "output_type": "stream",
          "name": "stdout",
          "text": [
            "(10, 20, 30)\n"
          ]
        }
      ]
    },
    {
      "cell_type": "code",
      "source": [
        "# Defining the tuple\n",
        "my_tuple = ('apple', 'banana', 'cherry')\n",
        "\n",
        "# Accessing the first element (index 0)\n",
        "first_element = my_tuple[0]\n",
        "\n",
        "# Printing the first element\n",
        "print(first_element)\n"
      ],
      "metadata": {
        "colab": {
          "base_uri": "https://localhost:8080/"
        },
        "id": "b-nxVhgWKRs0",
        "outputId": "355d78e2-22be-4ff0-ff07-3a8f62248211"
      },
      "execution_count": 17,
      "outputs": [
        {
          "output_type": "stream",
          "name": "stdout",
          "text": [
            "apple\n"
          ]
        }
      ]
    },
    {
      "cell_type": "code",
      "source": [
        "# Defining the tuple\n",
        "my_tuple = (1, 2, 3, 2, 4, 2)\n",
        "\n",
        "# Counting the occurrences of 2 in the tuple\n",
        "count_of_two = my_tuple.count(2)\n",
        "\n",
        "# Printing the count\n",
        "print(count_of_two)\n"
      ],
      "metadata": {
        "colab": {
          "base_uri": "https://localhost:8080/"
        },
        "id": "drz5JQ7hKyCU",
        "outputId": "71ba1568-b120-4ffd-f1fc-c2e94fd7ea52"
      },
      "execution_count": 18,
      "outputs": [
        {
          "output_type": "stream",
          "name": "stdout",
          "text": [
            "3\n"
          ]
        }
      ]
    },
    {
      "cell_type": "code",
      "source": [
        "# Defining the tuple\n",
        "my_tuple = ('dog', 'cat', 'rabbit')\n",
        "\n",
        "# Finding the index of \"cat\"\n",
        "index_of_cat = my_tuple.index(\"cat\")\n",
        "\n",
        "# Printing the index\n",
        "print(index_of_cat)\n"
      ],
      "metadata": {
        "colab": {
          "base_uri": "https://localhost:8080/"
        },
        "id": "ybtZkwiZK5rU",
        "outputId": "1e24366a-422a-417e-d8c0-58d23d239cb1"
      },
      "execution_count": 19,
      "outputs": [
        {
          "output_type": "stream",
          "name": "stdout",
          "text": [
            "1\n"
          ]
        }
      ]
    },
    {
      "cell_type": "code",
      "source": [
        "# Defining the tuple\n",
        "my_tuple = ('apple', 'orange', 'banana')\n",
        "\n",
        "# Checking if \"banana\" is in the tuple\n",
        "is_banana_in_tuple = \"banana\" in my_tuple\n",
        "\n",
        "# Printing the result\n",
        "print(is_banana_in_tuple)\n"
      ],
      "metadata": {
        "colab": {
          "base_uri": "https://localhost:8080/"
        },
        "id": "6jKp9P18K8J6",
        "outputId": "edcb60b8-2023-4b53-8a5d-6572ef12514a"
      },
      "execution_count": 20,
      "outputs": [
        {
          "output_type": "stream",
          "name": "stdout",
          "text": [
            "True\n"
          ]
        }
      ]
    },
    {
      "cell_type": "code",
      "source": [
        "# Creating the set\n",
        "my_set = {1, 2, 3, 4, 5}\n",
        "\n",
        "# Printing the set\n",
        "print(my_set)\n"
      ],
      "metadata": {
        "colab": {
          "base_uri": "https://localhost:8080/"
        },
        "id": "l3Qm1vXpLNnr",
        "outputId": "38731bb9-71de-4370-fc37-7de173a37528"
      },
      "execution_count": 21,
      "outputs": [
        {
          "output_type": "stream",
          "name": "stdout",
          "text": [
            "{1, 2, 3, 4, 5}\n"
          ]
        }
      ]
    },
    {
      "cell_type": "code",
      "source": [
        "# Defining the set\n",
        "my_set = {1, 2, 3, 4}\n",
        "\n",
        "# Adding the element 6 to the set\n",
        "my_set.add(6)\n",
        "\n",
        "# Printing the updated set\n",
        "print(my_set)\n"
      ],
      "metadata": {
        "colab": {
          "base_uri": "https://localhost:8080/"
        },
        "id": "zQy8aSdkLc3J",
        "outputId": "dfdb658e-4baa-4dc2-a3ef-c5087c0fbb35"
      },
      "execution_count": 22,
      "outputs": [
        {
          "output_type": "stream",
          "name": "stdout",
          "text": [
            "{1, 2, 3, 4, 6}\n"
          ]
        }
      ]
    },
    {
      "cell_type": "code",
      "source": [
        "# Creating the tuple\n",
        "my_tuple = (10, 20, 30)\n",
        "\n",
        "# Printing the tuple\n",
        "print(my_tuple)\n"
      ],
      "metadata": {
        "colab": {
          "base_uri": "https://localhost:8080/"
        },
        "id": "ypHDPw43Lt5Z",
        "outputId": "70c843a1-a31e-47f7-de8f-91d1de7b1701"
      },
      "execution_count": 23,
      "outputs": [
        {
          "output_type": "stream",
          "name": "stdout",
          "text": [
            "(10, 20, 30)\n"
          ]
        }
      ]
    },
    {
      "cell_type": "code",
      "source": [],
      "metadata": {
        "id": "d-tHOBv4L9tW"
      },
      "execution_count": null,
      "outputs": []
    }
  ]
}